{
 "cells": [
  {
   "cell_type": "markdown",
   "id": "115b680c",
   "metadata": {},
   "source": [
    "# Computer Networks - Computer Assignment 2 \n",
    "Mohammad Saadati - \n",
    "_810198410_\n",
    "\n",
    "Mohammad Araghi - \n",
    "_810198436_"
   ]
  },
  {
   "cell_type": "markdown",
   "id": "22836130",
   "metadata": {},
   "source": [
    "## Introduction\n",
    "The purpose of this assignment is to get acquainted with the **NS2** simulation tool and to analyze some network parameters when using a **wireless network**."
   ]
  },
  {
   "cell_type": "markdown",
   "id": "bf5aedb4",
   "metadata": {},
   "source": [
    "### Import Libraries\n",
    "In this part, some of the necessary libraries were imported in order to use their helpful functions."
   ]
  },
  {
   "cell_type": "code",
   "execution_count": 43,
   "id": "6e5ce84d",
   "metadata": {},
   "outputs": [],
   "source": [
    "import traceanalyzer as tr\n",
    "import codecs\n",
    "import os"
   ]
  },
  {
   "cell_type": "markdown",
   "id": "e3d02698",
   "metadata": {},
   "source": [
    "### Defining Constants\n",
    "In this part, constant values are defined in order to make the code more readable and more flexible to change."
   ]
  },
  {
   "cell_type": "code",
   "execution_count": 8,
   "id": "6d283b59",
   "metadata": {},
   "outputs": [],
   "source": [
    "TRACE_FILENAME = \"out.tr\""
   ]
  },
  {
   "cell_type": "markdown",
   "id": "3ccbf8a1",
   "metadata": {},
   "source": [
    "## Analysis result"
   ]
  },
  {
   "cell_type": "code",
   "execution_count": 62,
   "id": "7de9874b",
   "metadata": {},
   "outputs": [],
   "source": [
    "def decode_cbr(item):\n",
    "    result = {}\n",
    "    result['action'] = item[0]\n",
    "    result['time'] = float(item[1])\n",
    "    result['src_node'] = item[2][1:len(item[2]) - 1]\n",
    "    result['layer'] = item[3]\n",
    "    result['flags'] = item[5]\n",
    "    result['sequence_number'] = item[6]\n",
    "    result['packet_type'] = item[7]\n",
    "    result['packet_size'] = item[8]\n",
    "    result['packet_duration'] = hex(int(item[9][1:], 16))\n",
    "    result['destination_mac_address'] = hex(int(item[10], 16))\n",
    "    result['source_mac_address'] = int(item[11])\n",
    "    result['packet_mac_type'] = int(item[12][:len(item[12]) - 1])\n",
    "    source_node_ip, source_node_port_number = item[14][1:].split(':')\n",
    "    result['source_node_ip'] = source_node_ip\n",
    "    result['source_node_port_number'] = source_node_port_number\n",
    "    destination_node_ip, destination_node_port_number = item[15].split(':')\n",
    "    result['destination_node_ip'] = destination_node_ip\n",
    "    result['destination_node_port_number'] = destination_node_port_number\n",
    "    result['ip_header_ttl'] = int(item[16])\n",
    "    result['ip_of_next_hop'] = int(item[17][:len(item[17]) - 1])\n",
    "#     print(result)\n",
    "    return result\n",
    "    \n",
    "def decode_AODV(item):\n",
    "    result = {}\n",
    "    result['action'] = item[0]\n",
    "    result['time'] = float(item[1])\n",
    "    result['src_node'] = item[2][1:len(item[2]) - 1]\n",
    "    result['layer'] = item[3]\n",
    "    result['flags'] = item[5]\n",
    "    result['sequence_number'] = item[6]\n",
    "    result['packet_type'] = item[7]\n",
    "    result['packet_size'] = item[8]\n",
    "    result['packet_duration'] = hex(int(item[9][1:], 16))\n",
    "    result['destination_mac_address'] = hex(int(item[10], 16))\n",
    "    result['source_mac_address'] = int(item[11])\n",
    "    result['packet_mac_type'] = int(item[12][:len(item[12]) - 1])\n",
    "    source_node_ip, source_node_port_number = item[14][1:].split(':')\n",
    "    result['source_node_ip'] = source_node_ip\n",
    "    result['source_node_port_number'] = source_node_port_number\n",
    "    destination_node_ip, destination_node_port_number = item[15].split(':')\n",
    "    result['destination_node_ip'] = destination_node_ip\n",
    "    result['destination_node_port_number'] = destination_node_port_number\n",
    "    result['ip_header_ttl'] = int(item[16])\n",
    "    result['ip_of_next_hop'] = int(item[17][:len(item[17]) - 1])\n",
    "    result['RREQ_packet_id'] = hex(int(item[18][1:], 16))\n",
    "    result['hop_count'] = int(item[19])\n",
    "    result['broadcast_id'] = int(item[20])\n",
    "    result['destination_ip_address'] = item[21][1:]\n",
    "    result['destination_sequence_number'] = item[22][:len(item[22]) - 1]\n",
    "    result['source_ip_address'] = item[23][1:]\n",
    "    result['source_sequence_number'] = item[24][:len(item[24]) - 1]\n",
    "    is_RREQ_packet = item[25][1:].split(')')\n",
    "    result['is_RREQ_packet'] = is_RREQ_packet[0]\n",
    "    print(result)\n",
    "    return result\n",
    "    \n",
    "def decode_ARP(item):\n",
    "    result = {}\n",
    "    result['action'] = item[0]\n",
    "    result['time'] = float(item[1])\n",
    "    result['src_node'] = item[2][1:len(item[2]) - 1]\n",
    "    result['layer'] = item[3]\n",
    "    result['flags'] = item[5]\n",
    "    result['sequence_number'] = item[6]\n",
    "    result['packet_type'] = item[7]\n",
    "    result['packet_size'] = item[8]\n",
    "    result['packet_duration'] = hex(int(item[9][1:], 16))\n",
    "    result['destination_mac_address'] = hex(int(item[10], 16))\n",
    "    result['source_mac_address'] = int(item[11])\n",
    "    result['packet_mac_type'] = int(item[12][:len(item[12]) - 1])\n",
    "#     source_node_ip, source_node_port_number = item[14][1:].split(':')\n",
    "#     result['source_node_ip'] = source_node_ip\n",
    "#     result['source_node_port_number'] = source_node_port_number\n",
    "#     destination_node_ip, destination_node_port_number = item[15].split(':')\n",
    "#     result['destination_node_ip'] = destination_node_ip\n",
    "#     result['destination_node_port_number'] = destination_node_port_number\n",
    "#     result['ip_header_ttl'] = int(item[16])\n",
    "#     print(result)\n",
    "    return result\n",
    "    \n",
    "def decode_RTS(item):\n",
    "    result = {}\n",
    "    result['action'] = item[0]\n",
    "    result['time'] = float(item[1])\n",
    "    result['src_node'] = item[2][1:len(item[2]) - 1]\n",
    "    result['layer'] = item[3]\n",
    "    result['flags'] = item[5]\n",
    "    result['sequence_number'] = item[6]\n",
    "    result['packet_type'] = item[7]\n",
    "    result['packet_size'] = item[8]\n",
    "    result['packet_duration'] = hex(int(item[9][1:], 16))\n",
    "    result['destination_mac_address'] = hex(int(item[10], 16))\n",
    "    result['source_mac_address'] = int(item[11])\n",
    "    result['packet_mac_type'] = int(item[12][:len(item[12]) - 1])\n",
    "#     print(result)\n",
    "    return result\n",
    "    \n",
    "def decode_CTS(item):\n",
    "    result = {}\n",
    "    result['action'] = item[0]\n",
    "    result['time'] = float(item[1])\n",
    "    result['src_node'] = item[2][1:len(item[2]) - 1]\n",
    "    result['layer'] = item[3]\n",
    "    result['flags'] = item[5]\n",
    "    result['sequence_number'] = item[6]\n",
    "    result['packet_type'] = item[7]\n",
    "    result['packet_size'] = item[8]\n",
    "    result['packet_duration'] = hex(int(item[9][1:], 16))\n",
    "    result['destination_mac_address'] = hex(int(item[10], 16))\n",
    "    result['source_mac_address'] = int(item[11])\n",
    "    result['packet_mac_type'] = int(item[12][:len(item[12]) - 1])\n",
    "#     print(result)\n",
    "    return result\n",
    "    \n",
    "def decode_ACK(item):\n",
    "    result = {}\n",
    "    result['action'] = item[0]\n",
    "    result['time'] = float(item[1])\n",
    "    result['src_node'] = item[2][1:len(item[2]) - 1]\n",
    "    result['layer'] = item[3]\n",
    "    result['flags'] = item[5]\n",
    "    result['sequence_number'] = item[6]\n",
    "    result['packet_type'] = item[7]\n",
    "    result['packet_size'] = item[8]\n",
    "    result['packet_duration'] = hex(int(item[9][1:], 16))\n",
    "    result['destination_mac_address'] = hex(int(item[10], 16))\n",
    "    result['source_mac_address'] = int(item[11])\n",
    "    result['packet_mac_type'] = int(item[12][:len(item[12]) - 1])\n",
    "#     print(result)\n",
    "    return result"
   ]
  },
  {
   "cell_type": "code",
   "execution_count": 64,
   "id": "8fe52c26",
   "metadata": {
    "scrolled": true
   },
   "outputs": [],
   "source": [
    "def analysis_tr():\n",
    "    decoded_lines = []\n",
    "    \n",
    "    with codecs.open(TRACE_FILENAME, \"r\", \"UTF8\") as inputFile:\n",
    "        inputFile=inputFile.readlines()\n",
    "    for line in inputFile:\n",
    "        item = line.split(\" \");\n",
    "        if item[7] == 'cbr':\n",
    "            decoded_lines.append(decode_cbr(item))\n",
    "        elif item[7] == 'AODV':\n",
    "            decoded_lines.append(decode_AODV(item))\n",
    "        elif item[7] == 'ARP':\n",
    "            decoded_lines.append(decode_ARP(item))\n",
    "        elif item[7] == 'RTS':\n",
    "            decoded_lines.append(decode_RTS(item))\n",
    "        elif item[7] == 'CTS':\n",
    "            decoded_lines.append(decode_CTS(item))\n",
    "        elif item[7] == 'ACK':\n",
    "            decoded_lines.append(decode_ACK(item))\n",
    "       "
   ]
  },
  {
   "cell_type": "markdown",
   "id": "90360be8",
   "metadata": {},
   "source": [
    "## Run topology with different parameters"
   ]
  },
  {
   "cell_type": "code",
   "execution_count": 50,
   "id": "6ff7a603",
   "metadata": {},
   "outputs": [],
   "source": [
    "bandwidths = [1.5, 55, 155]\n",
    "f1 = open(\"base_topology_1.txt\", \"r\")\n",
    "base_topology_1 = f1.read()\n",
    "f2 = open(\"base_topology_2.txt\", \"r\")\n",
    "base_topology_2 = f2.read()\n",
    "\n",
    "def create_tcl(bandwidth, i):\n",
    "    if i == 10: error_rate = \"0.00001\"\n",
    "    else : error_rate = \"0.00000\" + str(i)\n",
    "    s = \"Mac/Simple set bandwidth_ \" + str(bandwidth) + \"Mb\\n\"\n",
    "    s += base_topology_1\n",
    "    s += \"\\n\" + \"set error_rate \" + str(error_rate) + \"                   ;#error rate of sending\\n\"\n",
    "    s += base_topology_2\n",
    "    f = open(\"topo.tcl\", \"w\")\n",
    "    f.write(s)\n",
    "    f.close()\n",
    "    \n",
    "def run_tcl():\n",
    "    os.system('ns topt.tcl')\n",
    "     \n",
    "for bandwidth in bandwidths:\n",
    "    for i in range(1,11):\n",
    "        create_tcl(bandwidth, i)\n",
    "        run_tcl()\n",
    "#         analysis_tr()"
   ]
  },
  {
   "cell_type": "markdown",
   "id": "0ea7d8d3",
   "metadata": {},
   "source": [
    "## Throughput"
   ]
  },
  {
   "cell_type": "code",
   "execution_count": 5,
   "id": "137c6d4e",
   "metadata": {},
   "outputs": [
    {
     "data": {
      "image/png": "[encoded data removed]",
      "text/plain": [
       "<Figure size 432x288 with 1 Axes>"
      ]
     },
     "metadata": {
      "needs_background": "light"
     },
     "output_type": "display_data"
    },
    {
     "name": "stdout",
     "output_type": "stream",
     "text": [
      "1.0   0.0\n",
      "2.0   0.0\n",
      "3.0   0.0\n",
      "4.0   0.0\n",
      "5.0   0.0\n",
      "6.000218281   0.0\n",
      "7.000327124   0.0\n",
      "8.000345   0.0\n",
      "9.00052069   0.0\n"
     ]
    }
   ],
   "source": [
    "#Throughput\n",
    "throughput1=tr.Throughput(TRACE_FILENAME,'33')\n",
    "throughput1.sample()#eedelay2.sample(1.5) for sampling with step=1.5\n",
    "throughput1.plot()\n",
    "#getting data\n",
    "time=throughput1.time_sample\n",
    "throughput=throughput1.throughput_sample\n",
    "idx=0\n",
    "for instant in time:\n",
    "    print(instant,' ',throughput[idx]) \n",
    "    idx+=1"
   ]
  },
  {
   "cell_type": "markdown",
   "id": "5317b017",
   "metadata": {},
   "source": [
    "## Packet Transfer Ratio"
   ]
  },
  {
   "cell_type": "code",
   "execution_count": 6,
   "id": "2ab29ac6",
   "metadata": {},
   "outputs": [
    {
     "data": {
      "image/png": "[encoded data removed]",
      "text/plain": [
       "<Figure size 432x288 with 1 Axes>"
      ]
     },
     "metadata": {
      "needs_background": "light"
     },
     "output_type": "display_data"
    },
    {
     "name": "stdout",
     "output_type": "stream",
     "text": [
      "0   0\n",
      "1.0   0\n",
      "2.0   0\n",
      "3.0   0\n",
      "4.0   0\n",
      "5.0   0\n",
      "6.000218281   0\n",
      "7.000327124   0\n",
      "8.000345   0\n",
      "9.00052069   0\n"
     ]
    }
   ],
   "source": [
    "#Packet Delivery Ratio\n",
    "pdr1=tr.Pdr(TRACE_FILENAME,'33')\n",
    "pdr1.sample()\n",
    "pdr1.plot('sr-') #plotting with argument\n",
    "#getting data\n",
    "time=pdr1.time_sample\n",
    "pdr=pdr1.pdr_sample\n",
    "idx=0\n",
    "for instant in time:\n",
    "    print(instant,' ',pdr[idx]) \n",
    "    idx+=1"
   ]
  },
  {
   "cell_type": "markdown",
   "id": "6ab52cd0",
   "metadata": {},
   "source": [
    "## Average End-to-End Delay"
   ]
  },
  {
   "cell_type": "code",
   "execution_count": 10,
   "id": "0282c75c",
   "metadata": {},
   "outputs": [
    {
     "data": {
      "image/png": "[encoded data removed]",
      "text/plain": [
       "<Figure size 432x288 with 1 Axes>"
      ]
     },
     "metadata": {
      "needs_background": "light"
     },
     "output_type": "display_data"
    },
    {
     "name": "stdout",
     "output_type": "stream",
     "text": [
      "0   0\n"
     ]
    }
   ],
   "source": [
    "#end-to-end delay\n",
    "# eedelay1=tr.Eedelay(TRACE_FILENAME,'33')\n",
    "eedelay2=tr.Eedelay(TRACE_FILENAME,'33')\n",
    "eedelay2.sample()#eedelay2.sample(1.5) for sampling with step=1.5.\n",
    "eedelay2.plot()\n",
    "# eedelay1.plot()\n",
    "#getting data\n",
    "time=eedelay2.time_sample\n",
    "eedelay=eedelay2.eedelay_sample\n",
    "idx=0\n",
    "for instant in time:\n",
    "    print(instant,' ',eedelay[idx]) \n",
    "    idx+=1"
   ]
  },
  {
   "cell_type": "code",
   "execution_count": null,
   "id": "85a21df3",
   "metadata": {},
   "outputs": [],
   "source": []
  }
 ],
 "metadata": {
  "kernelspec": {
   "display_name": "Python 3",
   "language": "python",
   "name": "python3"
  },
  "language_info": {
   "codemirror_mode": {
    "name": "ipython",
    "version": 3
   },
   "file_extension": ".py",
   "mimetype": "text/x-python",
   "name": "python",
   "nbconvert_exporter": "python",
   "pygments_lexer": "ipython3",
   "version": "3.8.8"
  }
 },
 "nbformat": 4,
 "nbformat_minor": 5
}
