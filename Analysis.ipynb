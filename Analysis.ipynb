{
 "cells": [
  {
   "cell_type": "markdown",
   "id": "115b680c",
   "metadata": {},
   "source": [
    "# Computer Networks - Computer Assignment 2 \n",
    "Mohammad Saadati - \n",
    "_810198410_\n",
    "\n",
    "Mohammad Araghi - \n",
    "_810198436_"
   ]
  },
  {
   "cell_type": "markdown",
   "id": "22836130",
   "metadata": {},
   "source": [
    "## Introduction\n",
    "The purpose of this assignment is to get acquainted with the **NS2** simulation tool and to analyze some network parameters when using a **wireless network**."
   ]
  },
  {
   "cell_type": "markdown",
   "id": "bf5aedb4",
   "metadata": {},
   "source": [
    "### Import Libraries\n",
    "In this part, some of the necessary libraries were imported in order to use their helpful functions."
   ]
  },
  {
   "cell_type": "code",
   "execution_count": 73,
   "id": "6e5ce84d",
   "metadata": {},
   "outputs": [],
   "source": [
    "import codecs\n",
    "import os\n",
    "import matplotlib.pyplot as plt"
   ]
  },
  {
   "cell_type": "markdown",
   "id": "e3d02698",
   "metadata": {},
   "source": [
    "### Defining Constants\n",
    "In this part, constant values are defined in order to make the code more readable and more flexible to change."
   ]
  },
  {
   "cell_type": "code",
   "execution_count": 8,
   "id": "6d283b59",
   "metadata": {},
   "outputs": [],
   "source": [
    "TRACE_FILENAME = \"out.tr\""
   ]
  },
  {
   "cell_type": "markdown",
   "id": "de43f919",
   "metadata": {},
   "source": [
    "## Analysis result"
   ]
  },
  {
   "cell_type": "code",
   "execution_count": 84,
   "id": "e5481c90",
   "metadata": {},
   "outputs": [],
   "source": [
    "def decode_cbr(item):\n",
    "    result = {}\n",
    "    result['action'] = item[0]\n",
    "    result['time'] = float(item[1])\n",
    "    result['src_node'] = item[2][1:len(item[2]) - 1]\n",
    "    result['layer'] = item[3]\n",
    "    result['flags'] = item[5]\n",
    "    result['sequence_number'] = int(item[6])\n",
    "    result['packet_type'] = item[7]\n",
    "    result['packet_size'] = int(item[8])\n",
    "    result['packet_duration'] = hex(int(item[9][1:], 16))\n",
    "    result['destination_mac_address'] = hex(int(item[10], 16))\n",
    "    result['source_mac_address'] = int(item[11])\n",
    "    result['packet_mac_type'] = int(item[12][:len(item[12]) - 1])\n",
    "    source_node_ip, source_node_port_number = item[14][1:].split(':')\n",
    "    result['source_node_ip'] = source_node_ip\n",
    "    result['source_node_port_number'] = source_node_port_number\n",
    "    destination_node_ip, destination_node_port_number = item[15].split(':')\n",
    "    result['destination_node_ip'] = destination_node_ip\n",
    "    result['destination_node_port_number'] = destination_node_port_number\n",
    "    result['ip_header_ttl'] = int(item[16])\n",
    "    result['ip_of_next_hop'] = int(item[17][:len(item[17]) - 1])\n",
    "#     print(result)\n",
    "    return result\n",
    "    \n",
    "def decode_AODV(item):\n",
    "    result = {}\n",
    "    result['action'] = item[0]\n",
    "    result['time'] = float(item[1])\n",
    "    result['src_node'] = item[2][1:len(item[2]) - 1]\n",
    "    result['layer'] = item[3]\n",
    "    result['flags'] = item[5]\n",
    "    result['sequence_number'] = int(item[6])\n",
    "    result['packet_type'] = item[7]\n",
    "    result['packet_size'] = int(item[8])\n",
    "    result['packet_duration'] = hex(int(item[9][1:], 16))\n",
    "    result['destination_mac_address'] = hex(int(item[10], 16))\n",
    "    result['source_mac_address'] = int(item[11])\n",
    "    result['packet_mac_type'] = int(item[12][:len(item[12]) - 1])\n",
    "    source_node_ip, source_node_port_number = item[14][1:].split(':')\n",
    "    result['source_node_ip'] = source_node_ip\n",
    "    result['source_node_port_number'] = source_node_port_number\n",
    "    destination_node_ip, destination_node_port_number = item[15].split(':')\n",
    "    result['destination_node_ip'] = destination_node_ip\n",
    "    result['destination_node_port_number'] = destination_node_port_number\n",
    "    result['ip_header_ttl'] = int(item[16])\n",
    "    result['ip_of_next_hop'] = int(item[17][:len(item[17]) - 1])\n",
    "    result['RREQ_packet_id'] = hex(int(item[18][1:], 16))\n",
    "    result['hop_count'] = int(item[19])\n",
    "    result['broadcast_id'] = int(item[20])\n",
    "    result['destination_ip_address'] = item[21][1:]\n",
    "    result['destination_sequence_number'] = item[22][:len(item[22]) - 1]\n",
    "    result['source_ip_address'] = item[23][1:]\n",
    "    result['source_sequence_number'] = item[24][:len(item[24]) - 1]\n",
    "    is_RREQ_packet = item[25][1:].split(')')\n",
    "    result['is_RREQ_packet'] = is_RREQ_packet[0]\n",
    "    print(result)\n",
    "    return result\n",
    "    \n",
    "def decode_ARP(item):\n",
    "    result = {}\n",
    "    result['action'] = item[0]\n",
    "    result['time'] = float(item[1])\n",
    "    result['src_node'] = item[2][1:len(item[2]) - 1]\n",
    "    result['layer'] = item[3]\n",
    "    result['flags'] = item[5]\n",
    "    result['sequence_number'] = int(item[6])\n",
    "    result['packet_type'] = item[7]\n",
    "    result['packet_size'] = int(item[8])\n",
    "    result['packet_duration'] = hex(int(item[9][1:], 16))\n",
    "    result['destination_mac_address'] = hex(int(item[10], 16))\n",
    "    result['source_mac_address'] = int(item[11])\n",
    "    result['packet_mac_type'] = int(item[12][:len(item[12]) - 1])\n",
    "#     source_node_ip, source_node_port_number = item[14][1:].split(':')\n",
    "#     result['source_node_ip'] = source_node_ip\n",
    "#     result['source_node_port_number'] = source_node_port_number\n",
    "#     destination_node_ip, destination_node_port_number = item[15].split(':')\n",
    "#     result['destination_node_ip'] = destination_node_ip\n",
    "#     result['destination_node_port_number'] = destination_node_port_number\n",
    "#     result['ip_header_ttl'] = int(item[16])\n",
    "#     print(result)\n",
    "    return result\n",
    "    \n",
    "def decode_RTS(item):\n",
    "    result = {}\n",
    "    result['action'] = item[0]\n",
    "    result['time'] = float(item[1])\n",
    "    result['src_node'] = item[2][1:len(item[2]) - 1]\n",
    "    result['layer'] = item[3]\n",
    "    result['flags'] = item[5]\n",
    "    result['sequence_number'] = int(item[6])\n",
    "    result['packet_type'] = item[7]\n",
    "    result['packet_size'] = int(item[8])\n",
    "    result['packet_duration'] = hex(int(item[9][1:], 16))\n",
    "    result['destination_mac_address'] = hex(int(item[10], 16))\n",
    "    result['source_mac_address'] = int(item[11])\n",
    "    result['packet_mac_type'] = int(item[12][:len(item[12]) - 1])\n",
    "#     print(result)\n",
    "    return result\n",
    "    \n",
    "def decode_CTS(item):\n",
    "    result = {}\n",
    "    result['action'] = item[0]\n",
    "    result['time'] = float(item[1])\n",
    "    result['src_node'] = item[2][1:len(item[2]) - 1]\n",
    "    result['layer'] = item[3]\n",
    "    result['flags'] = item[5]\n",
    "    result['sequence_number'] = int(item[6])\n",
    "    result['packet_type'] = item[7]\n",
    "    result['packet_size'] = int(item[8])\n",
    "    result['packet_duration'] = hex(int(item[9][1:], 16))\n",
    "    result['destination_mac_address'] = hex(int(item[10], 16))\n",
    "    result['source_mac_address'] = int(item[11])\n",
    "    result['packet_mac_type'] = int(item[12][:len(item[12]) - 1])\n",
    "#     print(result)\n",
    "    return result\n",
    "    \n",
    "def decode_ACK(item):\n",
    "    result = {}\n",
    "    result['action'] = item[0]\n",
    "    result['time'] = float(item[1])\n",
    "    result['src_node'] = item[2][1:len(item[2]) - 1]\n",
    "    result['layer'] = item[3]\n",
    "    result['flags'] = item[5]\n",
    "    result['sequence_number'] = int(item[6])\n",
    "    result['packet_type'] = item[7]\n",
    "    result['packet_size'] = int(item[8])\n",
    "    result['packet_duration'] = hex(int(item[9][1:], 16))\n",
    "    result['destination_mac_address'] = hex(int(item[10], 16))\n",
    "    result['source_mac_address'] = int(item[11])\n",
    "    result['packet_mac_type'] = int(item[12][:len(item[12]) - 1])\n",
    "#     print(result)\n",
    "    return result"
   ]
  },
  {
   "cell_type": "code",
   "execution_count": 85,
   "id": "8fe52c26",
   "metadata": {
    "scrolled": true
   },
   "outputs": [],
   "source": [
    "def analysis_tr(bandwidth, error_rate):\n",
    "    print(\"------------------------------------------------\")\n",
    "    print(\"Bandwidth %d\" % bandwidth)\n",
    "    print(\"Error rate %d\" % error_rate)\n",
    "    decoded_lines = []\n",
    "    \n",
    "    throughput_time = []\n",
    "    throughput_packet = []\n",
    "    cur_throughput_sum = 0\n",
    "    \n",
    "    packet_transfer_ratio_time = []\n",
    "    packet_transfer_ratio_value = []\n",
    "    packet_transfer_ratio_s = 0\n",
    "    packet_transfer_ratio_r = 0\n",
    "    \n",
    "    average_e2e_time = []\n",
    "    average_e2e_delay = []\n",
    "    packet_recive_time = [-1]* 1000000\n",
    "    packet_send_time = [-1]* 1000000\n",
    "    total_packets = 0\n",
    "    packet_sum = 0\n",
    "    \n",
    "    with codecs.open(TRACE_FILENAME, \"r\", \"UTF8\") as inputFile:\n",
    "        inputFile=inputFile.readlines()\n",
    "    for line in inputFile:\n",
    "        item = line.split(\" \");\n",
    "        if item[7] == 'cbr':\n",
    "            decoded_cbr = decode_cbr(item)\n",
    "            decoded_lines.append(decoded_cbr)\n",
    "            \n",
    "            if decoded_cbr['action'] == 'r':\n",
    "                cur_throughput_sum += decoded_cbr['packet_size']\n",
    "                throughput_time.append(decoded_cbr['time'])\n",
    "                throughput_packet.append(cur_throughput_sum / decoded_cbr['time'])\n",
    "                \n",
    "                packet_transfer_ratio_time.append(decoded_cbr['time'])\n",
    "                packet_transfer_ratio_r += 1\n",
    "                packet_transfer_ratio_value.append(packet_transfer_ratio_r/packet_transfer_ratio_s)\n",
    "                \n",
    "                if decoded_cbr['sequence_number'] != 0:\n",
    "                    packet_recive_time[decoded_cbr['sequence_number']] = decoded_cbr['time']\n",
    "                    total_packets += 1\n",
    "                    packet_sum += packet_recive_time[decoded_cbr['sequence_number']] - packet_send_time[decoded_cbr['sequence_number']]\n",
    "                    average_e2e_time.append(decoded_cbr['time'])\n",
    "                    average_e2e_delay.append(packet_sum/total_packets)\n",
    "\n",
    "            if decoded_cbr['action'] == 's':\n",
    "                packet_transfer_ratio_time.append(decoded_cbr['time'])\n",
    "                packet_transfer_ratio_s += 1\n",
    "                packet_transfer_ratio_value.append(packet_transfer_ratio_r/packet_transfer_ratio_s)\n",
    "                \n",
    "                if decoded_cbr['sequence_number'] != 0:\n",
    "                    packet_send_time[decoded_cbr['sequence_number']] = decoded_cbr['time']\n",
    "                            \n",
    "#         elif item[7] == 'AODV':\n",
    "#             decoded_lines.append(decode_AODV(item))\n",
    "#         elif item[7] == 'ARP':\n",
    "#             decoded_lines.append(decode_ARP(item))\n",
    "#         elif item[7] == 'RTS':\n",
    "#             decoded_lines.append(decode_RTS(item))\n",
    "#         elif item[7] == 'CTS':\n",
    "#             decoded_lines.append(decode_CTS(item))\n",
    "#         elif item[7] == 'ACK':\n",
    "#             decoded_lines.append(decode_ACK(item))\n",
    "\n",
    "\n",
    "    draw_throughput(throughput_time, throughput_packet)\n",
    "    draw_packet_transfer_ratio(packet_transfer_ratio_time, packet_transfer_ratio_value)\n",
    "    draw_average_e2e_delay(average_e2e_time, average_e2e_delay)\n",
    "            \n",
    "def draw_throughput(throughput_time, throughput_packet):\n",
    "    plt.plot(throughput_time, throughput_packet)\n",
    "    plt.xlabel('Time [s]')\n",
    "    plt.ylabel('Average throughput [bps]')\n",
    "    plt.title('Average throughput')\n",
    "    plt.show()\n",
    "    \n",
    "def draw_packet_transfer_ratio(packet_transfer_ratio_time, packet_transfer_ratio_value):\n",
    "    plt.plot(packet_transfer_ratio_time, packet_transfer_ratio_value)\n",
    "    plt.xlabel('Time [s]')\n",
    "    plt.ylabel('PDR')\n",
    "    plt.title('Packet Delivery ratio [PDR]')\n",
    "    plt.show()\n",
    "    \n",
    "def draw_average_e2e_delay(average_e2e_time, average_e2e_delay):\n",
    "    plt.plot(average_e2e_time, average_e2e_delay)\n",
    "    plt.xlabel('Time [s]')\n",
    "    plt.ylabel('Average E2E delay [s]')\n",
    "    plt.title('End-to-End delay')\n",
    "    plt.show()"
   ]
  },
  {
   "cell_type": "markdown",
   "id": "af961dd0",
   "metadata": {},
   "source": [
    "## Run topology with different parameters"
   ]
  },
  {
   "cell_type": "code",
   "execution_count": 86,
   "id": "08a6cb5a",
   "metadata": {},
   "outputs": [
    {
     "name": "stdout",
     "output_type": "stream",
     "text": [
      "------------------------------------------------\n",
      "Bandwidth 1\n",
      "Error rate 1\n"
     ]
    },
    {
     "data": {
      "image/png": "[encoded data removed]",
      "text/plain": [
       "<Figure size 432x288 with 1 Axes>"
      ]
     },
     "metadata": {
      "needs_background": "light"
     },
     "output_type": "display_data"
    },
    {
     "data": {
      "image/png": "[encoded data removed]",
      "text/plain": [
       "<Figure size 432x288 with 1 Axes>"
      ]
     },
     "metadata": {
      "needs_background": "light"
     },
     "output_type": "display_data"
    },
    {
     "data": {
      "image/png": "[encoded data removed]",
      "text/plain": [
       "<Figure size 432x288 with 1 Axes>"
      ]
     },
     "metadata": {
      "needs_background": "light"
     },
     "output_type": "display_data"
    }
   ],
   "source": [
    "bandwidths = [1.5, 55, 155]\n",
    "f1 = open(\"base_topology_1.txt\", \"r\")\n",
    "base_topology_1 = f1.read()\n",
    "f2 = open(\"base_topology_2.txt\", \"r\")\n",
    "base_topology_2 = f2.read()\n",
    "\n",
    "def create_tcl(bandwidth, i):\n",
    "    if i == 10: error_rate = \"0.00001\"\n",
    "    else : error_rate = \"0.00000\" + str(i)\n",
    "    s = \"Mac/Simple set bandwidth_ \" + str(bandwidth) + \"Mb\\n\"\n",
    "    s += base_topology_1\n",
    "    s += \"\\n\" + \"set error_rate \" + str(error_rate) + \"                   ;#error rate of sending\\n\"\n",
    "    s += base_topology_2\n",
    "    f = open(\"topo.tcl\", \"w\")\n",
    "    f.write(s)\n",
    "    f.close()\n",
    "    \n",
    "def run_tcl():\n",
    "    os.system('ns topt.tcl')\n",
    "     \n",
    "# for bandwidth in bandwidths:\n",
    "#     for i in range(1,11):\n",
    "#         create_tcl(bandwidth, i)\n",
    "#         run_tcl()\n",
    "#         analysis_tr(bandwidth, i)\n",
    "\n",
    "create_tcl(1.5, 1)\n",
    "run_tcl()\n",
    "analysis_tr(1.5, 1)"
   ]
  },
  {
   "cell_type": "code",
   "execution_count": null,
   "id": "5fe5c1a2",
   "metadata": {},
   "outputs": [],
   "source": []
  }
 ],
 "metadata": {
  "kernelspec": {
   "display_name": "Python 3",
   "language": "python",
   "name": "python3"
  },
  "language_info": {
   "codemirror_mode": {
    "name": "ipython",
    "version": 3
   },
   "file_extension": ".py",
   "mimetype": "text/x-python",
   "name": "python",
   "nbconvert_exporter": "python",
   "pygments_lexer": "ipython3",
   "version": "3.8.8"
  }
 },
 "nbformat": 4,
 "nbformat_minor": 5
}
